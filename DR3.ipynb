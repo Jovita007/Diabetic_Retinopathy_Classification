{
  "cells": [
    {
      "cell_type": "code",
      "execution_count": null,
      "metadata": {
        "id": "PaVpCWn8kQEb"
      },
      "outputs": [],
      "source": [
        "import os\n",
        "os.chdir('/content/drive/My Drive/')"
      ]
    },
    {
      "cell_type": "code",
      "source": [
        "pip install git+https://github.com/qubvel/segmentation_models"
      ],
      "metadata": {
        "id": "t71lw6O6Df0W"
      },
      "execution_count": null,
      "outputs": []
    },
    {
      "cell_type": "code",
      "execution_count": null,
      "metadata": {
        "colab": {
          "base_uri": "https://localhost:8080/"
        },
        "id": "xsV8vfqpXp8q",
        "outputId": "fbdd9cf8-29f5-4f1d-a9a7-84c04ffa5469"
      },
      "outputs": [
        {
          "output_type": "stream",
          "name": "stdout",
          "text": [
            "Requirement already satisfied: efficientnet in /usr/local/lib/python3.7/dist-packages (1.1.1)\n",
            "Requirement already satisfied: scikit-image in /usr/local/lib/python3.7/dist-packages (from efficientnet) (0.18.3)\n",
            "Requirement already satisfied: keras-applications<=1.0.8,>=1.0.7 in /usr/local/lib/python3.7/dist-packages (from efficientnet) (1.0.8)\n",
            "Requirement already satisfied: h5py in /usr/local/lib/python3.7/dist-packages (from keras-applications<=1.0.8,>=1.0.7->efficientnet) (3.1.0)\n",
            "Requirement already satisfied: numpy>=1.9.1 in /usr/local/lib/python3.7/dist-packages (from keras-applications<=1.0.8,>=1.0.7->efficientnet) (1.19.5)\n",
            "Requirement already satisfied: cached-property in /usr/local/lib/python3.7/dist-packages (from h5py->keras-applications<=1.0.8,>=1.0.7->efficientnet) (1.5.2)\n",
            "Requirement already satisfied: networkx>=2.0 in /usr/local/lib/python3.7/dist-packages (from scikit-image->efficientnet) (2.6.3)\n",
            "Requirement already satisfied: scipy>=1.0.1 in /usr/local/lib/python3.7/dist-packages (from scikit-image->efficientnet) (1.4.1)\n",
            "Requirement already satisfied: PyWavelets>=1.1.1 in /usr/local/lib/python3.7/dist-packages (from scikit-image->efficientnet) (1.3.0)\n",
            "Requirement already satisfied: pillow!=7.1.0,!=7.1.1,>=4.3.0 in /usr/local/lib/python3.7/dist-packages (from scikit-image->efficientnet) (7.1.2)\n",
            "Requirement already satisfied: matplotlib!=3.0.0,>=2.0.0 in /usr/local/lib/python3.7/dist-packages (from scikit-image->efficientnet) (3.2.2)\n",
            "Requirement already satisfied: tifffile>=2019.7.26 in /usr/local/lib/python3.7/dist-packages (from scikit-image->efficientnet) (2021.11.2)\n",
            "Requirement already satisfied: imageio>=2.3.0 in /usr/local/lib/python3.7/dist-packages (from scikit-image->efficientnet) (2.4.1)\n",
            "Requirement already satisfied: kiwisolver>=1.0.1 in /usr/local/lib/python3.7/dist-packages (from matplotlib!=3.0.0,>=2.0.0->scikit-image->efficientnet) (1.4.2)\n",
            "Requirement already satisfied: cycler>=0.10 in /usr/local/lib/python3.7/dist-packages (from matplotlib!=3.0.0,>=2.0.0->scikit-image->efficientnet) (0.11.0)\n",
            "Requirement already satisfied: pyparsing!=2.0.4,!=2.1.2,!=2.1.6,>=2.0.1 in /usr/local/lib/python3.7/dist-packages (from matplotlib!=3.0.0,>=2.0.0->scikit-image->efficientnet) (3.0.8)\n",
            "Requirement already satisfied: python-dateutil>=2.1 in /usr/local/lib/python3.7/dist-packages (from matplotlib!=3.0.0,>=2.0.0->scikit-image->efficientnet) (2.8.2)\n",
            "Requirement already satisfied: typing-extensions in /usr/local/lib/python3.7/dist-packages (from kiwisolver>=1.0.1->matplotlib!=3.0.0,>=2.0.0->scikit-image->efficientnet) (3.7.4.3)\n",
            "Requirement already satisfied: six>=1.5 in /usr/local/lib/python3.7/dist-packages (from python-dateutil>=2.1->matplotlib!=3.0.0,>=2.0.0->scikit-image->efficientnet) (1.15.0)\n"
          ]
        }
      ],
      "source": [
        "pip install efficientnet"
      ]
    },
    {
      "cell_type": "code",
      "execution_count": null,
      "metadata": {
        "id": "IRDe6BBScj0Q"
      },
      "outputs": [],
      "source": [
        "# for accessing tabular data\n",
        "import pandas as pd\n",
        "import numpy as np\n",
        "import os\n",
        "os.chdir('/content/drive/My Drive/')\n",
        "# adding classweight\n",
        "from sklearn.utils import class_weight\n",
        "# Evaluation Metric\n",
        "from sklearn.metrics import cohen_kappa_score\n",
        "from sklearn.metrics import confusion_matrix, precision_score, recall_score\n",
        "# for visualization\n",
        "import cv2\n",
        "import matplotlib.pyplot as plt\n",
        "import seaborn as sns\n",
        "from prettytable import PrettyTable\n",
        "# backend\n",
        "import keras\n",
        "from keras import backend as K\n",
        "import tensorflow as tf\n",
        "from keras.callbacks import Callback\n",
        "# for transfer learning\n",
        "from keras.applications.vgg16 import VGG16\n",
        "from keras.applications.vgg19 import VGG19\n",
        "from keras.applications.densenet import DenseNet121\n",
        "from keras.applications.resnet import ResNet50, ResNet152\n",
        "from keras.applications.inception_v3 import InceptionV3\n",
        "from efficientnet.keras import EfficientNetB0, EfficientNetB3, EfficientNetB4\n",
        "from keras.applications.xception import Xception\n",
        "# for model architecture\n",
        "from keras.models import Sequential\n",
        "from keras.layers import GlobalAveragePooling2D, Dropout, Dense, Conv2D, MaxPooling2D, Activation, Flatten\n",
        "# for Tensorboard visualization\n",
        "from keras.callbacks import TensorBoard\n",
        "# for Data Augmentation\n",
        "from keras.preprocessing.image import ImageDataGenerator"
      ]
    },
    {
      "cell_type": "code",
      "source": [
        "import tensorflow\n",
        "from tensorflow.keras.models import Model\n",
        "from tensorflow.keras.optimizers import Adam\n",
        "from keras.applications.densenet import DenseNet121"
      ],
      "metadata": {
        "id": "JGPci-OC3CcI"
      },
      "execution_count": null,
      "outputs": []
    },
    {
      "cell_type": "code",
      "source": [
        "x_train = np.load('/content/drive/MyDrive/DR-Data-Blindness_Detection/processed_images/training.npy')  #training set\n",
        "x_validation = np.load('/content/drive/MyDrive/DR-Data-Blindness_Detection/processed_images/validation.npy')  #validation set\n",
        "x_test = np.load('/content/drive/MyDrive/DR-Data-Blindness_Detection/processed_images/test.npy')    #test set"
      ],
      "metadata": {
        "id": "RuxpUz-prCLF"
      },
      "execution_count": null,
      "outputs": []
    },
    {
      "cell_type": "code",
      "execution_count": null,
      "metadata": {
        "id": "FP_SxJnelZbM",
        "colab": {
          "base_uri": "https://localhost:8080/"
        },
        "outputId": "fe54d85a-9076-49c3-a4f1-1bf26e1ee6b0"
      },
      "outputs": [
        {
          "output_type": "stream",
          "name": "stdout",
          "text": [
            "Loaded Successfully...\n",
            "\n",
            "(3112, 512, 512, 3)\n",
            "(550, 512, 512, 3)\n",
            "(1928, 512, 512, 3)\n"
          ]
        }
      ],
      "source": [
        "try:\n",
        "    x_train = np.load(\"/content/drive/MyDrive/DR-Data-Blindness_Detection/processed_images/training.npy\", mmap_mode=None, allow_pickle=False, fix_imports=True)\n",
        "    x_validation = np.load(\"/content/drive/MyDrive/DR-Data-Blindness_Detection/processed_images/validation.npy\",mmap_mode=None, allow_pickle=False, fix_imports=True)\n",
        "    x_test = np.load(\"/content/drive/MyDrive/DR-Data-Blindness_Detection/processed_images/test.npy\", mmap_mode = None,allow_pickle = False, fix_imports = True)\n",
        "    print(\"Loaded Successfully...\\n\")\n",
        "    print(x_train.shape)\n",
        "    print(x_validation.shape)\n",
        "    print(x_test.shape)\n",
        "except:\n",
        "    print(\"file not exists\")"
      ]
    },
    {
      "cell_type": "code",
      "execution_count": null,
      "metadata": {
        "id": "gmrSN_fRvigC",
        "colab": {
          "base_uri": "https://localhost:8080/"
        },
        "outputId": "8e892f65-8f63-4893-d310-1b7987a49d6e"
      },
      "outputs": [
        {
          "output_type": "stream",
          "name": "stdout",
          "text": [
            "Training: 3112\n",
            "Validation: 550\n"
          ]
        }
      ],
      "source": [
        "train_labels = pd.read_csv('/content/drive/MyDrive/DR-Data-Blindness_Detection/training.csv')\n",
        "train_labels = train_labels['diagnosis']\n",
        "validation_labels = pd.read_csv('/content/drive/MyDrive/DR-Data-Blindness_Detection/validation.csv')\n",
        "validation_labels = validation_labels['diagnosis']\n",
        "print(\"Training:\",train_labels.shape[0])\n",
        "print(\"Validation:\",validation_labels.shape[0])"
      ]
    },
    {
      "cell_type": "markdown",
      "metadata": {
        "id": "5py5WbUavtOk"
      },
      "source": [
        "#Transforming Target Labels:"
      ]
    },
    {
      "cell_type": "code",
      "execution_count": null,
      "metadata": {
        "id": "-dtcr8Ecvstp",
        "colab": {
          "base_uri": "https://localhost:8080/"
        },
        "outputId": "6bcf71f7-4f1d-425b-c30d-4b9ca9fb06f0"
      },
      "outputs": [
        {
          "output_type": "stream",
          "name": "stdout",
          "text": [
            "(3112, 5)\n",
            "(550, 5)\n",
            "Ex: Original Category: 2\n",
            " After encoding: [1 1 1 0 0]\n"
          ]
        }
      ],
      "source": [
        "def ordinal_regression(labels):\n",
        "    y_train = pd.get_dummies(labels).values\n",
        "    y_train_multi = np.empty(y_train.shape, dtype=y_train.dtype)\n",
        "    y_train_multi[:, 4] = y_train[:, 4]\n",
        "\n",
        "    for i in range(3, -1, -1):\n",
        "         y_train_multi[:, i] = np.logical_or(y_train[:, i], y_train_multi[:, i+1])\n",
        "    return y_train_multi\n",
        "labels_train = ordinal_regression(train_labels)\n",
        "labels_validation = ordinal_regression(validation_labels)\n",
        "print(labels_train.shape)\n",
        "print(labels_validation.shape)\n",
        "print(\"Ex: Original Category: {}\\n After encoding: {}\".format(train_labels.iloc[4],labels_train[4]))"
      ]
    },
    {
      "cell_type": "markdown",
      "metadata": {
        "id": "G1dWcSb4wGr9"
      },
      "source": [
        "#Metrics"
      ]
    },
    {
      "cell_type": "code",
      "execution_count": null,
      "metadata": {
        "id": "gVQae10qv37O",
        "colab": {
          "base_uri": "https://localhost:8080/"
        },
        "outputId": "cbfb8c10-49cd-42b9-e31f-b27841657f72"
      },
      "outputs": [
        {
          "output_type": "stream",
          "name": "stdout",
          "text": [
            "[0.40573664 1.98216561 0.73309776 3.79512195 2.47968127]\n"
          ]
        }
      ],
      "source": [
        "#computing class weight\n",
        "class_weights = class_weight.compute_class_weight(class_weight='balanced',\n",
        "                                                  classes = [0,1,2,3,4],\n",
        "                                                  y = train_labels)\n",
        "print(class_weights)"
      ]
    },
    {
      "cell_type": "code",
      "execution_count": null,
      "metadata": {
        "id": "bKL2TIhVwRe8"
      },
      "outputs": [],
      "source": [
        "def kappa_metric(y_true, y_pred):\n",
        "    y_true = y_true.sum(axis=1) - 1\n",
        "    y_pred = y_pred > 0.5\n",
        "    y_pred = y_pred.astype(int).sum(axis=1) - 1\n",
        "    _kappa_ = cohen_kappa_score( y_true, y_pred,  weights='quadratic' )\n",
        "    return _kappa_"
      ]
    },
    {
      "cell_type": "code",
      "execution_count": null,
      "metadata": {
        "id": "yOqdqhqZ1EC0"
      },
      "outputs": [],
      "source": [
        "class Metrics(Callback):\n",
        "    def __init__(self, path):\n",
        "        ''' Initialization of variables '''\n",
        "        super(Callback, self).__init__()\n",
        "        self.path = path\n",
        "    def ModelCheckPoint(self, path):\n",
        "        ''' This function is used for Storing the model weights if val_kappa improves from all the previous epochs'''\n",
        "        self.model.save(path)\n",
        "    def on_train_begin(self, logs={}):\n",
        "        self.val_kappas = []\n",
        "    def on_epoch_end(self, epoch, logs={}):\n",
        "        ''' This function is used for calculating kappa score on each epoch and updates the validation kappa score if it improves from the previous epochs'''\n",
        "        X_val, y_val = self.validation_data[:2]\n",
        "        y_val = y_val.sum(axis=1) - 1\n",
        "        y_pred = self.model.predict(X_val) > 0.5\n",
        "        y_pred = y_pred.astype(int).sum(axis=1) - 1\n",
        "        _val_kappa = cohen_kappa_score(\n",
        "            y_val,\n",
        "            y_pred,\n",
        "            weights='quadratic'\n",
        "        )\n",
        "        self.val_kappas.append(_val_kappa)\n",
        "        print(f\"\\b - val_kappa:  {_val_kappa:.4f}\")\n",
        "        if _val_kappa == max(self.val_kappas):\n",
        "            print(\"\\n\\t\\tValidation Kappa has improved. Saving model to {}...\".format(self.path))\n",
        "            self.ModelCheckPoint(self.path)\n",
        "        else:\n",
        "            print(\"\\n\\t\\tValidation kappa did not improved from {}\".format(max(self.val_kappas)))\n",
        "        return"
      ]
    },
    {
      "cell_type": "code",
      "execution_count": null,
      "metadata": {
        "id": "1WSK9cPB1KoU"
      },
      "outputs": [],
      "source": [
        "class PerformanceMetric:\n",
        "    def __init__(self,actual_labels,predicted_labels):\n",
        "        ''' Initialization of variables '''\n",
        "        self.actual_labels = actual_labels\n",
        "        self.predicted_labels = predicted_labels\n",
        "    def single_value_conversion(self):\n",
        "        ''' This function is used for Converting model predicted values into single values\n",
        "           Ex: model_predicted_value: [0,1,0,0,0] and it converts as 1'''\n",
        "        predicted_labels = self.predicted_labels > 0.5\n",
        "        prediction_ordinal = np.empty(predicted_labels.shape, dtype = int)\n",
        "        prediction_ordinal[:,4] = predicted_labels[:,4]\n",
        "        for i in range(3, -1, -1): prediction_ordinal[:, i] = np.logical_or(predicted_labels[:,i], prediction_ordinal[:,i+1])\n",
        "        self.predicted_labels = prediction_ordinal.sum(axis = 1)-1\n",
        "        self.actual_labels = self.actual_labels.sum(axis = 1)-1\n",
        "    def confusionMatrix(self):\n",
        "        ''' This function is used for calculating confusion matrix between model predicted values and true values using sklearn implementation.'''\n",
        "        confusion_matrix_ = confusion_matrix(self.actual_labels, self.predicted_labels)\n",
        "        return confusion_matrix_\n",
        "    def precision(self, matrix):\n",
        "        ''' This function is used for calculating precision matrix between predicted values and true values using confusion matrix'''\n",
        "        precision_matrix =(((matrix.T)/(matrix.sum(axis=1))).T)\n",
        "        return precision_matrix\n",
        "    def recall(self, matrix):\n",
        "        ''' this function is used for calculating recall matrix between predicted values and true values using confusion matrix'''\n",
        "        recall_matrix =(matrix/matrix.sum(axis=0))\n",
        "        return recall_matrix\n",
        "    def subplot_(self, matrix, i, title):\n",
        "        ''' This function is used for subplots'''\n",
        "        plt.subplot(1,3,i)\n",
        "        labels = [1,2,3,4,5]\n",
        "        sns.heatmap(matrix, annot=True, cmap=sns.light_palette('green'),linewidths = 0.8,cbar = False, fmt=\".3f\", xticklabels=labels, yticklabels=labels)\n",
        "        plt.title(title)\n",
        "        plt.xlabel('Predicted Class Labels')\n",
        "        plt.ylabel('Actual Class Labels')\n",
        "    def plotting(self):\n",
        "        \"\"\"\n",
        "        This function is used for calculating number of misclassified points, confusion, recall and precision matrixes and plotting it using subplots.\n",
        "        \"\"\"\n",
        "        self.single_value_conversion()\n",
        "        confusion_matrix = self.confusionMatrix()\n",
        "        #print(\"Number of misclassified points: \",(len(self.actual_labels)-np.trace(confusion_matrix))/len(self.actual_labels)*100,\"\\n\")\n",
        "        precision_matrix = self.precision(confusion_matrix)\n",
        "        recall_matrix = self.recall(confusion_matrix)\n",
        "        plt.figure(figsize=(20,5))\n",
        "        self.subplot_(confusion_matrix, 1, 'Confusion Matrix')\n",
        "        self.subplot_(precision_matrix, 2, 'Precision')\n",
        "        self.subplot_(recall_matrix, 3, 'Recall')\n",
        "        plt.show()"
      ]
    },
    {
      "cell_type": "code",
      "execution_count": null,
      "metadata": {
        "id": "MM-Poyfk1NO8"
      },
      "outputs": [],
      "source": [
        "def plotting(iter, val_kappa):\n",
        "    epoch = [i for i in range(iter)]\n",
        "    plt.plot(epoch,val_kappa)\n",
        "    plt.title('validation_kappa on each epoch')\n",
        "    plt.xlabel('epoch')\n",
        "    plt.ylabel('val_kappa')\n",
        "    plt.grid()\n",
        "    plt.show()"
      ]
    },
    {
      "cell_type": "code",
      "execution_count": null,
      "metadata": {
        "id": "wHmu4LRZ1QLR"
      },
      "outputs": [],
      "source": [
        "def test_prediction(predicted_labels):\n",
        "    predicted_labels = predicted_labels > 0.5\n",
        "    prediction_ordinal = np.empty(predicted_labels.shape, dtype = int)\n",
        "    prediction_ordinal[:,4] = predicted_labels[:,4]\n",
        "    for i in range(3, -1, -1): prediction_ordinal[:, i] = np.logical_or(predicted_labels[:,i], prediction_ordinal[:,i+1])\n",
        "    predicted_labels = prediction_ordinal.sum(axis = 1)-1\n",
        "    return predicted_labels"
      ]
    },
    {
      "cell_type": "markdown",
      "metadata": {
        "id": "bMitXZ2T1U6m"
      },
      "source": [
        "#Model-Training:"
      ]
    },
    {
      "cell_type": "code",
      "execution_count": null,
      "metadata": {
        "id": "cjxOoKAR1TD5"
      },
      "outputs": [],
      "source": [
        "def baseline_model():\n",
        "    ''' This function is used for building a base line convolutional neural network architecture '''\n",
        "    model = Sequential()\n",
        "    model.add(Conv2D(filters=16, kernel_size=(2, 2), input_shape=[512,512,3], activation= 'relu'))\n",
        "    model.add(MaxPooling2D(pool_size=(2, 2)))\n",
        "    model.add(Conv2D(filters=32, kernel_size=(2, 2), activation='relu'))\n",
        "    model.add(MaxPooling2D(pool_size=(2, 2)))\n",
        "    model.add(Conv2D(filters=64, kernel_size=(2, 2), activation='relu'))\n",
        "    model.add(MaxPooling2D(pool_size=(2, 2)))\n",
        "    model.add(GlobalAveragePooling2D())\n",
        "    model.add(Dense(units=128, activation = 'relu'))\n",
        "    model.add(Dense(units=256, activation = 'relu'))\n",
        "    model.add(Dropout(rate=0.2))\n",
        "    model.add(Dense(units=512, activation='relu'))\n",
        "    model.add(Dense(5, activation='sigmoid'))\n",
        "    model.compile(loss='binary_crossentropy', optimizer= tensorflow.keras.optimizers.Adam(lr=0.00005), metrics=['accuracy'])\n",
        "    return model"
      ]
    },
    {
      "cell_type": "code",
      "execution_count": null,
      "metadata": {
        "colab": {
          "base_uri": "https://localhost:8080/"
        },
        "id": "2nIRm_jI1Zld",
        "outputId": "0ec16131-c835-4146-d0c2-09a5175d6335"
      },
      "outputs": [
        {
          "output_type": "stream",
          "name": "stdout",
          "text": [
            "Model: \"sequential\"\n",
            "_________________________________________________________________\n",
            " Layer (type)                Output Shape              Param #   \n",
            "=================================================================\n",
            " conv2d (Conv2D)             (None, 511, 511, 16)      208       \n",
            "                                                                 \n",
            " max_pooling2d (MaxPooling2D  (None, 255, 255, 16)     0         \n",
            " )                                                               \n",
            "                                                                 \n",
            " conv2d_1 (Conv2D)           (None, 254, 254, 32)      2080      \n",
            "                                                                 \n",
            " max_pooling2d_1 (MaxPooling  (None, 127, 127, 32)     0         \n",
            " 2D)                                                             \n",
            "                                                                 \n",
            " conv2d_2 (Conv2D)           (None, 126, 126, 64)      8256      \n",
            "                                                                 \n",
            " max_pooling2d_2 (MaxPooling  (None, 63, 63, 64)       0         \n",
            " 2D)                                                             \n",
            "                                                                 \n",
            " global_average_pooling2d (G  (None, 64)               0         \n",
            " lobalAveragePooling2D)                                          \n",
            "                                                                 \n",
            " dense (Dense)               (None, 128)               8320      \n",
            "                                                                 \n",
            " dense_1 (Dense)             (None, 256)               33024     \n",
            "                                                                 \n",
            " dropout (Dropout)           (None, 256)               0         \n",
            "                                                                 \n",
            " dense_2 (Dense)             (None, 512)               131584    \n",
            "                                                                 \n",
            " dense_3 (Dense)             (None, 5)                 2565      \n",
            "                                                                 \n",
            "=================================================================\n",
            "Total params: 186,037\n",
            "Trainable params: 186,037\n",
            "Non-trainable params: 0\n",
            "_________________________________________________________________\n"
          ]
        },
        {
          "output_type": "stream",
          "name": "stderr",
          "text": [
            "/usr/local/lib/python3.7/dist-packages/keras/optimizer_v2/adam.py:105: UserWarning: The `lr` argument is deprecated, use `learning_rate` instead.\n",
            "  super(Adam, self).__init__(name, **kwargs)\n"
          ]
        }
      ],
      "source": [
        "baseline = baseline_model()\n",
        "baseline.summary()"
      ]
    },
    {
      "cell_type": "code",
      "source": [
        "x_validation"
      ],
      "metadata": {
        "colab": {
          "base_uri": "https://localhost:8080/"
        },
        "id": "3gmaQcB3aS1r",
        "outputId": "275b6300-5911-4d47-dae9-c3a8f57ea767"
      },
      "execution_count": null,
      "outputs": [
        {
          "output_type": "execute_result",
          "data": {
            "text/plain": [
              "array([[[[128, 128, 128],\n",
              "         [128, 128, 128],\n",
              "         [128, 128, 128],\n",
              "         ...,\n",
              "         [128, 128, 128],\n",
              "         [128, 128, 128],\n",
              "         [128, 128, 128]],\n",
              "\n",
              "        [[128, 128, 128],\n",
              "         [128, 128, 128],\n",
              "         [128, 128, 128],\n",
              "         ...,\n",
              "         [128, 128, 128],\n",
              "         [128, 128, 128],\n",
              "         [128, 128, 128]],\n",
              "\n",
              "        [[128, 128, 128],\n",
              "         [128, 128, 128],\n",
              "         [128, 128, 128],\n",
              "         ...,\n",
              "         [128, 128, 128],\n",
              "         [128, 128, 128],\n",
              "         [128, 128, 128]],\n",
              "\n",
              "        ...,\n",
              "\n",
              "        [[128, 128, 128],\n",
              "         [128, 128, 128],\n",
              "         [128, 128, 128],\n",
              "         ...,\n",
              "         [128, 128, 128],\n",
              "         [128, 128, 128],\n",
              "         [128, 128, 128]],\n",
              "\n",
              "        [[128, 128, 128],\n",
              "         [128, 128, 128],\n",
              "         [128, 128, 128],\n",
              "         ...,\n",
              "         [128, 128, 128],\n",
              "         [128, 128, 128],\n",
              "         [128, 128, 128]],\n",
              "\n",
              "        [[128, 128, 128],\n",
              "         [128, 128, 128],\n",
              "         [128, 128, 128],\n",
              "         ...,\n",
              "         [128, 128, 128],\n",
              "         [128, 128, 128],\n",
              "         [128, 128, 128]]],\n",
              "\n",
              "\n",
              "       [[[128, 128, 128],\n",
              "         [128, 128, 128],\n",
              "         [128, 128, 128],\n",
              "         ...,\n",
              "         [128, 128, 128],\n",
              "         [128, 128, 128],\n",
              "         [128, 128, 128]],\n",
              "\n",
              "        [[128, 128, 128],\n",
              "         [128, 128, 128],\n",
              "         [128, 128, 128],\n",
              "         ...,\n",
              "         [128, 128, 128],\n",
              "         [128, 128, 128],\n",
              "         [128, 128, 128]],\n",
              "\n",
              "        [[128, 128, 128],\n",
              "         [128, 128, 128],\n",
              "         [128, 128, 128],\n",
              "         ...,\n",
              "         [128, 128, 128],\n",
              "         [128, 128, 128],\n",
              "         [128, 128, 128]],\n",
              "\n",
              "        ...,\n",
              "\n",
              "        [[128, 128, 128],\n",
              "         [128, 128, 128],\n",
              "         [128, 128, 128],\n",
              "         ...,\n",
              "         [128, 128, 128],\n",
              "         [128, 128, 128],\n",
              "         [128, 128, 128]],\n",
              "\n",
              "        [[128, 128, 128],\n",
              "         [128, 128, 128],\n",
              "         [128, 128, 128],\n",
              "         ...,\n",
              "         [128, 128, 128],\n",
              "         [128, 128, 128],\n",
              "         [128, 128, 128]],\n",
              "\n",
              "        [[128, 128, 128],\n",
              "         [128, 128, 128],\n",
              "         [128, 128, 128],\n",
              "         ...,\n",
              "         [128, 128, 128],\n",
              "         [128, 128, 128],\n",
              "         [128, 128, 128]]],\n",
              "\n",
              "\n",
              "       [[[128, 128, 128],\n",
              "         [128, 128, 128],\n",
              "         [128, 128, 128],\n",
              "         ...,\n",
              "         [128, 128, 128],\n",
              "         [128, 128, 128],\n",
              "         [128, 128, 128]],\n",
              "\n",
              "        [[128, 128, 128],\n",
              "         [128, 128, 128],\n",
              "         [128, 128, 128],\n",
              "         ...,\n",
              "         [128, 128, 128],\n",
              "         [128, 128, 128],\n",
              "         [128, 128, 128]],\n",
              "\n",
              "        [[128, 128, 128],\n",
              "         [128, 128, 128],\n",
              "         [128, 128, 128],\n",
              "         ...,\n",
              "         [128, 128, 128],\n",
              "         [128, 128, 128],\n",
              "         [128, 128, 128]],\n",
              "\n",
              "        ...,\n",
              "\n",
              "        [[128, 128, 128],\n",
              "         [128, 128, 128],\n",
              "         [128, 128, 128],\n",
              "         ...,\n",
              "         [128, 128, 128],\n",
              "         [128, 128, 128],\n",
              "         [128, 128, 128]],\n",
              "\n",
              "        [[128, 128, 128],\n",
              "         [128, 128, 128],\n",
              "         [128, 128, 128],\n",
              "         ...,\n",
              "         [128, 128, 128],\n",
              "         [128, 128, 128],\n",
              "         [128, 128, 128]],\n",
              "\n",
              "        [[128, 128, 128],\n",
              "         [128, 128, 128],\n",
              "         [128, 128, 128],\n",
              "         ...,\n",
              "         [128, 128, 128],\n",
              "         [128, 128, 128],\n",
              "         [128, 128, 128]]],\n",
              "\n",
              "\n",
              "       ...,\n",
              "\n",
              "\n",
              "       [[[128, 128, 128],\n",
              "         [128, 128, 128],\n",
              "         [128, 128, 128],\n",
              "         ...,\n",
              "         [128, 128, 128],\n",
              "         [128, 128, 128],\n",
              "         [128, 128, 128]],\n",
              "\n",
              "        [[128, 128, 128],\n",
              "         [128, 128, 128],\n",
              "         [128, 128, 128],\n",
              "         ...,\n",
              "         [128, 128, 128],\n",
              "         [128, 128, 128],\n",
              "         [128, 128, 128]],\n",
              "\n",
              "        [[128, 128, 128],\n",
              "         [128, 128, 128],\n",
              "         [128, 128, 128],\n",
              "         ...,\n",
              "         [128, 128, 128],\n",
              "         [128, 128, 128],\n",
              "         [128, 128, 128]],\n",
              "\n",
              "        ...,\n",
              "\n",
              "        [[128, 128, 128],\n",
              "         [128, 128, 128],\n",
              "         [128, 128, 128],\n",
              "         ...,\n",
              "         [128, 128, 128],\n",
              "         [128, 128, 128],\n",
              "         [128, 128, 128]],\n",
              "\n",
              "        [[128, 128, 128],\n",
              "         [128, 128, 128],\n",
              "         [128, 128, 128],\n",
              "         ...,\n",
              "         [128, 128, 128],\n",
              "         [128, 128, 128],\n",
              "         [128, 128, 128]],\n",
              "\n",
              "        [[128, 128, 128],\n",
              "         [128, 128, 128],\n",
              "         [128, 128, 128],\n",
              "         ...,\n",
              "         [128, 128, 128],\n",
              "         [128, 128, 128],\n",
              "         [128, 128, 128]]],\n",
              "\n",
              "\n",
              "       [[[128, 128, 128],\n",
              "         [128, 128, 128],\n",
              "         [128, 128, 128],\n",
              "         ...,\n",
              "         [128, 128, 128],\n",
              "         [128, 128, 128],\n",
              "         [128, 128, 128]],\n",
              "\n",
              "        [[128, 128, 128],\n",
              "         [128, 128, 128],\n",
              "         [128, 128, 128],\n",
              "         ...,\n",
              "         [128, 128, 128],\n",
              "         [128, 128, 128],\n",
              "         [128, 128, 128]],\n",
              "\n",
              "        [[128, 128, 128],\n",
              "         [128, 128, 128],\n",
              "         [128, 128, 128],\n",
              "         ...,\n",
              "         [128, 128, 128],\n",
              "         [128, 128, 128],\n",
              "         [128, 128, 128]],\n",
              "\n",
              "        ...,\n",
              "\n",
              "        [[128, 128, 128],\n",
              "         [128, 128, 128],\n",
              "         [128, 128, 128],\n",
              "         ...,\n",
              "         [128, 128, 128],\n",
              "         [128, 128, 128],\n",
              "         [128, 128, 128]],\n",
              "\n",
              "        [[128, 128, 128],\n",
              "         [128, 128, 128],\n",
              "         [128, 128, 128],\n",
              "         ...,\n",
              "         [128, 128, 128],\n",
              "         [128, 128, 128],\n",
              "         [128, 128, 128]],\n",
              "\n",
              "        [[128, 128, 128],\n",
              "         [128, 128, 128],\n",
              "         [128, 128, 128],\n",
              "         ...,\n",
              "         [128, 128, 128],\n",
              "         [128, 128, 128],\n",
              "         [128, 128, 128]]],\n",
              "\n",
              "\n",
              "       [[[128, 128, 128],\n",
              "         [128, 128, 128],\n",
              "         [128, 128, 128],\n",
              "         ...,\n",
              "         [128, 128, 128],\n",
              "         [128, 128, 128],\n",
              "         [128, 128, 128]],\n",
              "\n",
              "        [[128, 128, 128],\n",
              "         [128, 128, 128],\n",
              "         [128, 128, 128],\n",
              "         ...,\n",
              "         [128, 128, 128],\n",
              "         [128, 128, 128],\n",
              "         [128, 128, 128]],\n",
              "\n",
              "        [[128, 128, 128],\n",
              "         [128, 128, 128],\n",
              "         [128, 128, 128],\n",
              "         ...,\n",
              "         [128, 128, 128],\n",
              "         [128, 128, 128],\n",
              "         [128, 128, 128]],\n",
              "\n",
              "        ...,\n",
              "\n",
              "        [[128, 128, 128],\n",
              "         [128, 128, 128],\n",
              "         [128, 128, 128],\n",
              "         ...,\n",
              "         [128, 128, 128],\n",
              "         [128, 128, 128],\n",
              "         [128, 128, 128]],\n",
              "\n",
              "        [[128, 128, 128],\n",
              "         [128, 128, 128],\n",
              "         [128, 128, 128],\n",
              "         ...,\n",
              "         [128, 128, 128],\n",
              "         [128, 128, 128],\n",
              "         [128, 128, 128]],\n",
              "\n",
              "        [[128, 128, 128],\n",
              "         [128, 128, 128],\n",
              "         [128, 128, 128],\n",
              "         ...,\n",
              "         [128, 128, 128],\n",
              "         [128, 128, 128],\n",
              "         [128, 128, 128]]]], dtype=uint8)"
            ]
          },
          "metadata": {},
          "execution_count": 16
        }
      ]
    },
    {
      "cell_type": "code",
      "source": [
        "!cd baseline1/"
      ],
      "metadata": {
        "colab": {
          "base_uri": "https://localhost:8080/"
        },
        "id": "fQaeBSaVjmAW",
        "outputId": "cc9c41e7-eee3-4d68-b0ea-51eee75ce9bd"
      },
      "execution_count": null,
      "outputs": [
        {
          "output_type": "stream",
          "name": "stdout",
          "text": [
            "'012-CC (1).pdf'\n",
            "'012-CC (2).pdf'\n",
            " 012-CC.pdf\n",
            "'2020-11-18 (2) (1).png'\n",
            "'2020-11-18 (2).png'\n",
            " 2020-11-18.png\n",
            " 20-pds-012_AVC2.pdf\n",
            " 20_pds_012-AVC4.pdf\n",
            " 20-PDS-012_AVC.pdf\n",
            " 20PDS012-AVC.pdf\n",
            " 20_pds_012-CC.pdf\n",
            " 20PDS012_PDS3503.pdf\n",
            "'20-pds-012_R-ppt (1).pptx'\n",
            " 20-pds-012_R-ppt.pptx\n",
            "'4_Linear Regression (1) (1).gdoc'\n",
            "'4_Linear Regression (1) (2).gdoc'\n",
            "'4_Linear Regression (1).gdoc'\n",
            "'About the project (2).pdf'\n",
            " baseline1\n",
            " Classroom\n",
            "'Colab Notebooks'\n",
            "'COLLEGE REVIEW.gform'\n",
            " creditcard.csv.gsheet\n",
            " datapreprocessing.csv.gsheet\n",
            " DR-Data-Blindness_Detection\n",
            " DS-012.pdf\n",
            " JovitaV_CNN.ipynb\n",
            "'missing data-py code.gdoc'\n",
            "'Naive Bayes (1).gdoc'\n",
            " observation-11.pdf\n",
            " observation.pdf\n",
            "'ppsize foto.jpg'\n",
            "'Random Forest (1).gdoc'\n",
            "'Random Forest.gdoc'\n",
            " r-prog-output.pdf\n",
            " Stella.gdoc\n",
            "'Vaccine certificate.pdf'\n",
            "'WhatsApp Image 2021-02-22 at 9.04.14 PM.jpeg'\n"
          ]
        }
      ]
    },
    {
      "cell_type": "code",
      "execution_count": null,
      "metadata": {
        "id": "kPl5M-UE1b_a",
        "colab": {
          "base_uri": "https://localhost:8080/"
        },
        "outputId": "b87524f8-af0f-4808-97d9-9013f2fa3d73"
      },
      "outputs": [
        {
          "output_type": "stream",
          "name": "stderr",
          "text": [
            "/usr/local/lib/python3.7/dist-packages/keras/optimizer_v2/adam.py:105: UserWarning: The `lr` argument is deprecated, use `learning_rate` instead.\n",
            "  super(Adam, self).__init__(name, **kwargs)\n"
          ]
        },
        {
          "output_type": "stream",
          "name": "stdout",
          "text": [
            "Epoch 1/3\n",
            "98/98 - 21s - loss: 0.2546 - accuracy: 0.9775 - 21s/epoch - 219ms/step\n",
            "Epoch 2/3\n",
            "98/98 - 20s - loss: 0.1946 - accuracy: 0.9984 - 20s/epoch - 206ms/step\n",
            "Epoch 3/3\n",
            "98/98 - 20s - loss: 0.1805 - accuracy: 1.0000 - 20s/epoch - 206ms/step\n"
          ]
        }
      ],
      "source": [
        "baseline = baseline_model()\n",
        "kappa_metrics = Metrics('/content/drive/My Drive/models/baseline1.h5')\n",
        "tensorboard = TensorBoard(log_dir = '/content/drive/My Drive/baseline1')\n",
        "call_backs = [kappa_metrics,tensorboard]\n",
        "history = baseline.fit(x_train, labels_train, epochs = 3, batch_size = 32, verbose = 2,\n",
        "                       class_weight = {0:0.40573664,1: 1.98216561,2: 0.73309776,3: 3.79512195,4: 2.47968127})\n",
        "\n",
        "#BATCH_SIZE = 32\n",
        "\n",
        "#history = baseline.fit(\n",
        "#    x_train, labels_train,\n",
        "#    epochs = 30,\n",
        "#    batch_size = 32, verbose = 2,\n",
        "#    class_weight = {0:0.40573664,1: 1.98216561,2: 0.73309776,3: 3.79512195,4: 2.47968127},\n",
        "#    validation_data=(x_validation, labels_validation),\n",
        "#    callbacks=[kappa_metrics]\n",
        "#)"
      ]
    },
    {
      "cell_type": "code",
      "source": [
        "baseline.predict(x_validation)"
      ],
      "metadata": {
        "colab": {
          "base_uri": "https://localhost:8080/"
        },
        "id": "m_1B2UDed4Hv",
        "outputId": "7d363bb2-a4b9-478a-e587-43941793b585"
      },
      "execution_count": null,
      "outputs": [
        {
          "output_type": "execute_result",
          "data": {
            "text/plain": [
              "array([[9.9242920e-01, 9.9561775e-01, 7.8373802e-01, 3.4885564e-01,\n",
              "        2.2130183e-05],\n",
              "       [9.9278039e-01, 9.9596101e-01, 7.9019433e-01, 3.5375923e-01,\n",
              "        1.8928253e-05],\n",
              "       [9.9459630e-01, 9.9767250e-01, 7.9864109e-01, 3.8634405e-01,\n",
              "        9.1678712e-06],\n",
              "       ...,\n",
              "       [9.9393266e-01, 9.9698907e-01, 7.9650152e-01, 3.6638811e-01,\n",
              "        1.1974744e-05],\n",
              "       [9.9324328e-01, 9.9672347e-01, 7.9417157e-01, 3.6904070e-01,\n",
              "        1.4433109e-05],\n",
              "       [9.9511296e-01, 9.9790537e-01, 7.9941082e-01, 3.9281830e-01,\n",
              "        7.9925867e-06]], dtype=float32)"
            ]
          },
          "metadata": {},
          "execution_count": 23
        }
      ]
    },
    {
      "cell_type": "code",
      "execution_count": null,
      "metadata": {
        "id": "87HhJEOT1wGl"
      },
      "outputs": [],
      "source": [
        "baseline = baseline_model()\n",
        "baseline.load_weights(\"/content/drive/My Drive/models/baseline1.h5\")\n",
        "result1 = baseline.evaluate(x_validation,labels_validation)\n",
        "y_pred = baseline.predict(x_validation)\n",
        "print(\"After running the model for 30 epochs we got loss = {} Accuracy = {} kappa_score = {} on validation data\".format(np.round(result1[0],4),np.round(result1[1],4),np.round(kappa_metric(labels_validation,y_pred),4)))"
      ]
    },
    {
      "cell_type": "code",
      "source": [],
      "metadata": {
        "id": "CqBjvWi01LH4"
      },
      "execution_count": null,
      "outputs": []
    },
    {
      "cell_type": "code",
      "source": [],
      "metadata": {
        "id": "SvQEeO8z1LE6"
      },
      "execution_count": null,
      "outputs": []
    },
    {
      "cell_type": "code",
      "source": [],
      "metadata": {
        "id": "Rq5vzt2-1LB-"
      },
      "execution_count": null,
      "outputs": []
    },
    {
      "cell_type": "code",
      "source": [],
      "metadata": {
        "id": "jiY8FFqH1K-g"
      },
      "execution_count": null,
      "outputs": []
    },
    {
      "cell_type": "code",
      "source": [
        "BATCH_SIZE = 32\n",
        "\n",
        "def create_datagen():\n",
        "    return ImageDataGenerator(\n",
        "        zoom_range=0.2,  # set range for random zoom\n",
        "        rotation_range = 180,\n",
        "        horizontal_flip=True,  # randomly flip images\n",
        "        vertical_flip=True,  # randomly flip images\n",
        "    )\n",
        "\n",
        "# Using generator\n",
        "data_generator = create_datagen().flow(x_train,train_labels, batch_size=BATCH_SIZE, seed=2019)"
      ],
      "metadata": {
        "id": "7LnSWlU32SQa"
      },
      "execution_count": null,
      "outputs": []
    },
    {
      "cell_type": "code",
      "source": [],
      "metadata": {
        "id": "SyFqjyw940Nz"
      },
      "execution_count": null,
      "outputs": []
    },
    {
      "cell_type": "code",
      "source": [],
      "metadata": {
        "id": "K3zU6rcN40LB"
      },
      "execution_count": null,
      "outputs": []
    },
    {
      "cell_type": "code",
      "source": [],
      "metadata": {
        "id": "PcrssBG840H2"
      },
      "execution_count": null,
      "outputs": []
    },
    {
      "cell_type": "code",
      "source": [],
      "metadata": {
        "id": "c8XwsI-W40Ed"
      },
      "execution_count": null,
      "outputs": []
    },
    {
      "cell_type": "code",
      "source": [],
      "metadata": {
        "id": "3llsG8UU40BN"
      },
      "execution_count": null,
      "outputs": []
    },
    {
      "cell_type": "code",
      "source": [],
      "metadata": {
        "id": "a7JDdVi54z-X"
      },
      "execution_count": null,
      "outputs": []
    },
    {
      "cell_type": "code",
      "source": [],
      "metadata": {
        "id": "GlZPq14M4z7U"
      },
      "execution_count": null,
      "outputs": []
    },
    {
      "cell_type": "code",
      "source": [],
      "metadata": {
        "id": "ZSmueZww4z4S"
      },
      "execution_count": null,
      "outputs": []
    },
    {
      "cell_type": "markdown",
      "source": [
        "#EfficientB3\n"
      ],
      "metadata": {
        "id": "G_fI3m9E0f3P"
      }
    },
    {
      "cell_type": "code",
      "source": [
        "def GAP2D():\n",
        "    '''Global average pooling layer'''\n",
        "    global_average_pooling = GlobalAveragePooling2D()\n",
        "    return global_average_pooling\n",
        "def dropout(value = 0.5):\n",
        "    '''Dropout layer'''\n",
        "    dropout_layer = Dropout(value)\n",
        "    return dropout_layer\n",
        "def dense():\n",
        "    '''Dense layer'''\n",
        "    dense_layer = Dense(5, activation='sigmoid')\n",
        "    return dense_layer"
      ],
      "metadata": {
        "id": "6equ2sc72wad"
      },
      "execution_count": null,
      "outputs": []
    },
    {
      "cell_type": "code",
      "source": [
        "global_average_pooling_layer = GAP2D()\n",
        "dropout_layer = dropout()\n",
        "dense_layer = dense()"
      ],
      "metadata": {
        "id": "z3hgu7xX0iEJ"
      },
      "execution_count": null,
      "outputs": []
    },
    {
      "cell_type": "code",
      "source": [
        "def efficientnet_b3():\n",
        "    '''This function is used for building a model architecture of pretrained EfficientB3 on imagenet data set.'''\n",
        "    efficientnet_ = EfficientNetB3(include_top = False, input_shape = (512,512,3) )\n",
        "    x = global_average_pooling_layer(efficientnet_.layers[-1].output)\n",
        "    x = dropout_layer(x)\n",
        "    output = dense_layer(x)\n",
        "    model = Model(efficientnet_.layers[0].input,output)\n",
        "    model.compile(loss='binary_crossentropy', optimizer=keras.optimizers.Adam(lr=0.00005), metrics=['accuracy'])\n",
        "    return model"
      ],
      "metadata": {
        "id": "Mobcgt490jFF"
      },
      "execution_count": null,
      "outputs": []
    },
    {
      "cell_type": "code",
      "source": [
        "efficient = EfficientNetB5(\n",
        "    weights=None,\n",
        "    include_top=False,\n",
        "    input_shape=(IMG_SIZE,IMG_SIZE,3)\n",
        ")\n",
        "efficient.load_weights('/content/efficientnet-b3_weights_tf_dim_ordering_tf_kernels_autoaugment_notop.h5')\n",
        "def build_model():\n",
        "    model = Sequential()\n",
        "    model.add(efficient)\n",
        "    model.add(layers.GlobalAveragePooling2D())\n",
        "    model.add(layers.Dropout(0.5))\n",
        "    model.add(layers.Dense(5, activation='sigmoid'))\n",
        "\n",
        "\n",
        "    model.compile(\n",
        "        loss='binary_crossentropy',\n",
        "        optimizer=Adam(lr=0.00005),\n",
        "        metrics=['accuracy']\n",
        "    )\n",
        "\n",
        "    return model\n",
        "model = build_model()\n",
        "model.summary()"
      ],
      "metadata": {
        "id": "C0uta_3JFAWD"
      },
      "execution_count": null,
      "outputs": []
    },
    {
      "cell_type": "code",
      "source": [
        "efficientnet_ = efficientnet_b3()\n",
        "efficientnet_.summary()"
      ],
      "metadata": {
        "id": "71alhdmk0k1m"
      },
      "execution_count": null,
      "outputs": []
    },
    {
      "cell_type": "code",
      "source": [
        "!pip install tensorflow==2.6.0\n",
        "!pip install keras~=2.6.0"
      ],
      "metadata": {
        "id": "oOL36YBZ3c94"
      },
      "execution_count": null,
      "outputs": []
    },
    {
      "cell_type": "code",
      "source": [
        "tensorboard = TensorBoard(log_dir = '/content/drive/My Drive/efficientnet_b3')\n",
        "kappa_metrics = Metrics('/content/efficientnet-b3_weights_tf_dim_ordering_tf_kernels_autoaugment_notop.h5')\n",
        "data_generator = ImageDataGenerator(horizontal_flip=True,vertical_flip=True,rotation_range=180,zoom_range = 0.2)\n",
        "efficientnet_ = efficientnet_b3()\n",
        "history = efficientnet_.fit_generator(\n",
        "                   data_generator.flow(x_train, labels_train, batch_size = 8),\n",
        "                    steps_per_epoch=len(x_train) / 8,\n",
        "                    epochs=30,\n",
        "                    initial_epoch=0,\n",
        "                    verbose=1,\n",
        "                    validation_data=(x_validation, labels_validation),\n",
        "                    validation_steps=len(x_validation) / 8,\n",
        "                    callbacks=[kappa_metrics,tensorboard], class_weight = class_weights)"
      ],
      "metadata": {
        "id": "5AwgG0yg0mWb"
      },
      "execution_count": null,
      "outputs": []
    },
    {
      "cell_type": "code",
      "source": [
        "efficientnet_ = efficientnet_b3()\n",
        "efficientnet_.load_weights(\"/content/drive/My Drive/models/efficientnet_b3.h5\")\n",
        "result1 = efficientnet_.evaluate(x_validation,labels_validation, verbose = 2)\n",
        "y_pred = efficientnet_.predict(x_validation, batch_size = 8)\n",
        "print(\"After running the model for 30 epochs we got loss = {} Accuracy = {} kappa_score = {} on validation data\".format(np.round(result1[0],4),np.round(result1[1],4),np.round(kappa_metric(labels_validation,y_pred),4)))"
      ],
      "metadata": {
        "id": "tiGaEUsC0xbs"
      },
      "execution_count": null,
      "outputs": []
    },
    {
      "cell_type": "code",
      "source": [
        "ytrain_efficientb1 = efficientnet_.predict(x_train)\n",
        "ytrain_efficientb1 = test_prediction(ytrain_efficientb1)\n",
        "print(\"First five data points predictions in training:\",ytrain_efficientb1[:5])\n",
        "print(\"length of traindata prediction:\",ytrain_efficientb1.shape,\"\\n\")\n",
        "\n",
        "yvalidation_efficientb1 = efficientnet_.predict(x_validation)\n",
        "yvalidation_efficientb1 = test_prediction(yvalidation_efficientb1)\n",
        "print(\"First five data points predictions in validation:\",yvalidation_efficientb1[:5])\n",
        "print(\"length of validation data prediction:\",yvalidation_efficientb1.shape,\"\\n\")\n",
        "\n",
        "ytest_efficientb1 = efficientnet_.predict(x_test)\n",
        "ytest_efficientb1 = test_prediction(ytest_efficientb1)\n",
        "print(\"First five data points predictions in test:\",ytest_efficientb1[:5])\n",
        "print(\"length of test data prediction:\",ytest_efficientb1.shape)"
      ],
      "metadata": {
        "id": "WI-XnnSP0yAe"
      },
      "execution_count": null,
      "outputs": []
    },
    {
      "cell_type": "code",
      "source": [
        "metric = PerformanceMetric(labels_validation, y_pred)\n",
        "metric.plotting()"
      ],
      "metadata": {
        "id": "iBCitpUR01Kz"
      },
      "execution_count": null,
      "outputs": []
    },
    {
      "cell_type": "code",
      "source": [
        "%reload_ext tensorboard\n",
        "%tensorboard --logdir='/content/drive/My Drive/efficientnet_b3'"
      ],
      "metadata": {
        "id": "NibrMFxk03gp"
      },
      "execution_count": null,
      "outputs": []
    },
    {
      "cell_type": "code",
      "source": [],
      "metadata": {
        "id": "Go04gj-R04_q"
      },
      "execution_count": null,
      "outputs": []
    },
    {
      "cell_type": "markdown",
      "source": [
        "#Xception"
      ],
      "metadata": {
        "id": "NCvnWftQ6BCh"
      }
    },
    {
      "cell_type": "code",
      "source": [
        "def xception():\n",
        "    '''This function is used for building a model architecture of pretrained Xception on imagenet data set.'''\n",
        "    xception_ = Xception(weights = 'imagenet',include_top = False, input_shape = (512,512,3) )\n",
        "    x = global_average_pooling_layer(xception_.layers[-1].output)\n",
        "    x = dropout_layer(x)\n",
        "    output = dense_layer(x)\n",
        "    model = Model(xception_.layers[0].input,output)\n",
        "    model.compile(loss='binary_crossentropy', optimizer=tensorflow.keras.optimizers.Adam(lr=0.00005), metrics=['accuracy'])\n",
        "    return model"
      ],
      "metadata": {
        "id": "Cm4EUMcC6Dhu"
      },
      "execution_count": null,
      "outputs": []
    },
    {
      "cell_type": "code",
      "source": [
        "xception_ = xception()\n",
        "xception_.summary()"
      ],
      "metadata": {
        "colab": {
          "base_uri": "https://localhost:8080/"
        },
        "id": "vPDdKsr-6FRx",
        "outputId": "ce926ec3-b07e-4271-a04e-35a17793b1d8"
      },
      "execution_count": null,
      "outputs": [
        {
          "output_type": "stream",
          "name": "stdout",
          "text": [
            "Model: \"model\"\n",
            "__________________________________________________________________________________________________\n",
            "Layer (type)                    Output Shape         Param #     Connected to                     \n",
            "==================================================================================================\n",
            "input_2 (InputLayer)            [(None, 512, 512, 3) 0                                            \n",
            "__________________________________________________________________________________________________\n",
            "block1_conv1 (Conv2D)           (None, 255, 255, 32) 864         input_2[0][0]                    \n",
            "__________________________________________________________________________________________________\n",
            "block1_conv1_bn (BatchNormaliza (None, 255, 255, 32) 128         block1_conv1[0][0]               \n",
            "__________________________________________________________________________________________________\n",
            "block1_conv1_act (Activation)   (None, 255, 255, 32) 0           block1_conv1_bn[0][0]            \n",
            "__________________________________________________________________________________________________\n",
            "block1_conv2 (Conv2D)           (None, 253, 253, 64) 18432       block1_conv1_act[0][0]           \n",
            "__________________________________________________________________________________________________\n",
            "block1_conv2_bn (BatchNormaliza (None, 253, 253, 64) 256         block1_conv2[0][0]               \n",
            "__________________________________________________________________________________________________\n",
            "block1_conv2_act (Activation)   (None, 253, 253, 64) 0           block1_conv2_bn[0][0]            \n",
            "__________________________________________________________________________________________________\n",
            "block2_sepconv1 (SeparableConv2 (None, 253, 253, 128 8768        block1_conv2_act[0][0]           \n",
            "__________________________________________________________________________________________________\n",
            "block2_sepconv1_bn (BatchNormal (None, 253, 253, 128 512         block2_sepconv1[0][0]            \n",
            "__________________________________________________________________________________________________\n",
            "block2_sepconv2_act (Activation (None, 253, 253, 128 0           block2_sepconv1_bn[0][0]         \n",
            "__________________________________________________________________________________________________\n",
            "block2_sepconv2 (SeparableConv2 (None, 253, 253, 128 17536       block2_sepconv2_act[0][0]        \n",
            "__________________________________________________________________________________________________\n",
            "block2_sepconv2_bn (BatchNormal (None, 253, 253, 128 512         block2_sepconv2[0][0]            \n",
            "__________________________________________________________________________________________________\n",
            "conv2d (Conv2D)                 (None, 127, 127, 128 8192        block1_conv2_act[0][0]           \n",
            "__________________________________________________________________________________________________\n",
            "block2_pool (MaxPooling2D)      (None, 127, 127, 128 0           block2_sepconv2_bn[0][0]         \n",
            "__________________________________________________________________________________________________\n",
            "batch_normalization (BatchNorma (None, 127, 127, 128 512         conv2d[0][0]                     \n",
            "__________________________________________________________________________________________________\n",
            "add (Add)                       (None, 127, 127, 128 0           block2_pool[0][0]                \n",
            "                                                                 batch_normalization[0][0]        \n",
            "__________________________________________________________________________________________________\n",
            "block3_sepconv1_act (Activation (None, 127, 127, 128 0           add[0][0]                        \n",
            "__________________________________________________________________________________________________\n",
            "block3_sepconv1 (SeparableConv2 (None, 127, 127, 256 33920       block3_sepconv1_act[0][0]        \n",
            "__________________________________________________________________________________________________\n",
            "block3_sepconv1_bn (BatchNormal (None, 127, 127, 256 1024        block3_sepconv1[0][0]            \n",
            "__________________________________________________________________________________________________\n",
            "block3_sepconv2_act (Activation (None, 127, 127, 256 0           block3_sepconv1_bn[0][0]         \n",
            "__________________________________________________________________________________________________\n",
            "block3_sepconv2 (SeparableConv2 (None, 127, 127, 256 67840       block3_sepconv2_act[0][0]        \n",
            "__________________________________________________________________________________________________\n",
            "block3_sepconv2_bn (BatchNormal (None, 127, 127, 256 1024        block3_sepconv2[0][0]            \n",
            "__________________________________________________________________________________________________\n",
            "conv2d_1 (Conv2D)               (None, 64, 64, 256)  32768       add[0][0]                        \n",
            "__________________________________________________________________________________________________\n",
            "block3_pool (MaxPooling2D)      (None, 64, 64, 256)  0           block3_sepconv2_bn[0][0]         \n",
            "__________________________________________________________________________________________________\n",
            "batch_normalization_1 (BatchNor (None, 64, 64, 256)  1024        conv2d_1[0][0]                   \n",
            "__________________________________________________________________________________________________\n",
            "add_1 (Add)                     (None, 64, 64, 256)  0           block3_pool[0][0]                \n",
            "                                                                 batch_normalization_1[0][0]      \n",
            "__________________________________________________________________________________________________\n",
            "block4_sepconv1_act (Activation (None, 64, 64, 256)  0           add_1[0][0]                      \n",
            "__________________________________________________________________________________________________\n",
            "block4_sepconv1 (SeparableConv2 (None, 64, 64, 728)  188672      block4_sepconv1_act[0][0]        \n",
            "__________________________________________________________________________________________________\n",
            "block4_sepconv1_bn (BatchNormal (None, 64, 64, 728)  2912        block4_sepconv1[0][0]            \n",
            "__________________________________________________________________________________________________\n",
            "block4_sepconv2_act (Activation (None, 64, 64, 728)  0           block4_sepconv1_bn[0][0]         \n",
            "__________________________________________________________________________________________________\n",
            "block4_sepconv2 (SeparableConv2 (None, 64, 64, 728)  536536      block4_sepconv2_act[0][0]        \n",
            "__________________________________________________________________________________________________\n",
            "block4_sepconv2_bn (BatchNormal (None, 64, 64, 728)  2912        block4_sepconv2[0][0]            \n",
            "__________________________________________________________________________________________________\n",
            "conv2d_2 (Conv2D)               (None, 32, 32, 728)  186368      add_1[0][0]                      \n",
            "__________________________________________________________________________________________________\n",
            "block4_pool (MaxPooling2D)      (None, 32, 32, 728)  0           block4_sepconv2_bn[0][0]         \n",
            "__________________________________________________________________________________________________\n",
            "batch_normalization_2 (BatchNor (None, 32, 32, 728)  2912        conv2d_2[0][0]                   \n",
            "__________________________________________________________________________________________________\n",
            "add_2 (Add)                     (None, 32, 32, 728)  0           block4_pool[0][0]                \n",
            "                                                                 batch_normalization_2[0][0]      \n",
            "__________________________________________________________________________________________________\n",
            "block5_sepconv1_act (Activation (None, 32, 32, 728)  0           add_2[0][0]                      \n",
            "__________________________________________________________________________________________________\n",
            "block5_sepconv1 (SeparableConv2 (None, 32, 32, 728)  536536      block5_sepconv1_act[0][0]        \n",
            "__________________________________________________________________________________________________\n",
            "block5_sepconv1_bn (BatchNormal (None, 32, 32, 728)  2912        block5_sepconv1[0][0]            \n",
            "__________________________________________________________________________________________________\n",
            "block5_sepconv2_act (Activation (None, 32, 32, 728)  0           block5_sepconv1_bn[0][0]         \n",
            "__________________________________________________________________________________________________\n",
            "block5_sepconv2 (SeparableConv2 (None, 32, 32, 728)  536536      block5_sepconv2_act[0][0]        \n",
            "__________________________________________________________________________________________________\n",
            "block5_sepconv2_bn (BatchNormal (None, 32, 32, 728)  2912        block5_sepconv2[0][0]            \n",
            "__________________________________________________________________________________________________\n",
            "block5_sepconv3_act (Activation (None, 32, 32, 728)  0           block5_sepconv2_bn[0][0]         \n",
            "__________________________________________________________________________________________________\n",
            "block5_sepconv3 (SeparableConv2 (None, 32, 32, 728)  536536      block5_sepconv3_act[0][0]        \n",
            "__________________________________________________________________________________________________\n",
            "block5_sepconv3_bn (BatchNormal (None, 32, 32, 728)  2912        block5_sepconv3[0][0]            \n",
            "__________________________________________________________________________________________________\n",
            "add_3 (Add)                     (None, 32, 32, 728)  0           block5_sepconv3_bn[0][0]         \n",
            "                                                                 add_2[0][0]                      \n",
            "__________________________________________________________________________________________________\n",
            "block6_sepconv1_act (Activation (None, 32, 32, 728)  0           add_3[0][0]                      \n",
            "__________________________________________________________________________________________________\n",
            "block6_sepconv1 (SeparableConv2 (None, 32, 32, 728)  536536      block6_sepconv1_act[0][0]        \n",
            "__________________________________________________________________________________________________\n",
            "block6_sepconv1_bn (BatchNormal (None, 32, 32, 728)  2912        block6_sepconv1[0][0]            \n",
            "__________________________________________________________________________________________________\n",
            "block6_sepconv2_act (Activation (None, 32, 32, 728)  0           block6_sepconv1_bn[0][0]         \n",
            "__________________________________________________________________________________________________\n",
            "block6_sepconv2 (SeparableConv2 (None, 32, 32, 728)  536536      block6_sepconv2_act[0][0]        \n",
            "__________________________________________________________________________________________________\n",
            "block6_sepconv2_bn (BatchNormal (None, 32, 32, 728)  2912        block6_sepconv2[0][0]            \n",
            "__________________________________________________________________________________________________\n",
            "block6_sepconv3_act (Activation (None, 32, 32, 728)  0           block6_sepconv2_bn[0][0]         \n",
            "__________________________________________________________________________________________________\n",
            "block6_sepconv3 (SeparableConv2 (None, 32, 32, 728)  536536      block6_sepconv3_act[0][0]        \n",
            "__________________________________________________________________________________________________\n",
            "block6_sepconv3_bn (BatchNormal (None, 32, 32, 728)  2912        block6_sepconv3[0][0]            \n",
            "__________________________________________________________________________________________________\n",
            "add_4 (Add)                     (None, 32, 32, 728)  0           block6_sepconv3_bn[0][0]         \n",
            "                                                                 add_3[0][0]                      \n",
            "__________________________________________________________________________________________________\n",
            "block7_sepconv1_act (Activation (None, 32, 32, 728)  0           add_4[0][0]                      \n",
            "__________________________________________________________________________________________________\n",
            "block7_sepconv1 (SeparableConv2 (None, 32, 32, 728)  536536      block7_sepconv1_act[0][0]        \n",
            "__________________________________________________________________________________________________\n",
            "block7_sepconv1_bn (BatchNormal (None, 32, 32, 728)  2912        block7_sepconv1[0][0]            \n",
            "__________________________________________________________________________________________________\n",
            "block7_sepconv2_act (Activation (None, 32, 32, 728)  0           block7_sepconv1_bn[0][0]         \n",
            "__________________________________________________________________________________________________\n",
            "block7_sepconv2 (SeparableConv2 (None, 32, 32, 728)  536536      block7_sepconv2_act[0][0]        \n",
            "__________________________________________________________________________________________________\n",
            "block7_sepconv2_bn (BatchNormal (None, 32, 32, 728)  2912        block7_sepconv2[0][0]            \n",
            "__________________________________________________________________________________________________\n",
            "block7_sepconv3_act (Activation (None, 32, 32, 728)  0           block7_sepconv2_bn[0][0]         \n",
            "__________________________________________________________________________________________________\n",
            "block7_sepconv3 (SeparableConv2 (None, 32, 32, 728)  536536      block7_sepconv3_act[0][0]        \n",
            "__________________________________________________________________________________________________\n",
            "block7_sepconv3_bn (BatchNormal (None, 32, 32, 728)  2912        block7_sepconv3[0][0]            \n",
            "__________________________________________________________________________________________________\n",
            "add_5 (Add)                     (None, 32, 32, 728)  0           block7_sepconv3_bn[0][0]         \n",
            "                                                                 add_4[0][0]                      \n",
            "__________________________________________________________________________________________________\n",
            "block8_sepconv1_act (Activation (None, 32, 32, 728)  0           add_5[0][0]                      \n",
            "__________________________________________________________________________________________________\n",
            "block8_sepconv1 (SeparableConv2 (None, 32, 32, 728)  536536      block8_sepconv1_act[0][0]        \n",
            "__________________________________________________________________________________________________\n",
            "block8_sepconv1_bn (BatchNormal (None, 32, 32, 728)  2912        block8_sepconv1[0][0]            \n",
            "__________________________________________________________________________________________________\n",
            "block8_sepconv2_act (Activation (None, 32, 32, 728)  0           block8_sepconv1_bn[0][0]         \n",
            "__________________________________________________________________________________________________\n",
            "block8_sepconv2 (SeparableConv2 (None, 32, 32, 728)  536536      block8_sepconv2_act[0][0]        \n",
            "__________________________________________________________________________________________________\n",
            "block8_sepconv2_bn (BatchNormal (None, 32, 32, 728)  2912        block8_sepconv2[0][0]            \n",
            "__________________________________________________________________________________________________\n",
            "block8_sepconv3_act (Activation (None, 32, 32, 728)  0           block8_sepconv2_bn[0][0]         \n",
            "__________________________________________________________________________________________________\n",
            "block8_sepconv3 (SeparableConv2 (None, 32, 32, 728)  536536      block8_sepconv3_act[0][0]        \n",
            "__________________________________________________________________________________________________\n",
            "block8_sepconv3_bn (BatchNormal (None, 32, 32, 728)  2912        block8_sepconv3[0][0]            \n",
            "__________________________________________________________________________________________________\n",
            "add_6 (Add)                     (None, 32, 32, 728)  0           block8_sepconv3_bn[0][0]         \n",
            "                                                                 add_5[0][0]                      \n",
            "__________________________________________________________________________________________________\n",
            "block9_sepconv1_act (Activation (None, 32, 32, 728)  0           add_6[0][0]                      \n",
            "__________________________________________________________________________________________________\n",
            "block9_sepconv1 (SeparableConv2 (None, 32, 32, 728)  536536      block9_sepconv1_act[0][0]        \n",
            "__________________________________________________________________________________________________\n",
            "block9_sepconv1_bn (BatchNormal (None, 32, 32, 728)  2912        block9_sepconv1[0][0]            \n",
            "__________________________________________________________________________________________________\n",
            "block9_sepconv2_act (Activation (None, 32, 32, 728)  0           block9_sepconv1_bn[0][0]         \n",
            "__________________________________________________________________________________________________\n",
            "block9_sepconv2 (SeparableConv2 (None, 32, 32, 728)  536536      block9_sepconv2_act[0][0]        \n",
            "__________________________________________________________________________________________________\n",
            "block9_sepconv2_bn (BatchNormal (None, 32, 32, 728)  2912        block9_sepconv2[0][0]            \n",
            "__________________________________________________________________________________________________\n",
            "block9_sepconv3_act (Activation (None, 32, 32, 728)  0           block9_sepconv2_bn[0][0]         \n",
            "__________________________________________________________________________________________________\n",
            "block9_sepconv3 (SeparableConv2 (None, 32, 32, 728)  536536      block9_sepconv3_act[0][0]        \n",
            "__________________________________________________________________________________________________\n",
            "block9_sepconv3_bn (BatchNormal (None, 32, 32, 728)  2912        block9_sepconv3[0][0]            \n",
            "__________________________________________________________________________________________________\n",
            "add_7 (Add)                     (None, 32, 32, 728)  0           block9_sepconv3_bn[0][0]         \n",
            "                                                                 add_6[0][0]                      \n",
            "__________________________________________________________________________________________________\n",
            "block10_sepconv1_act (Activatio (None, 32, 32, 728)  0           add_7[0][0]                      \n",
            "__________________________________________________________________________________________________\n",
            "block10_sepconv1 (SeparableConv (None, 32, 32, 728)  536536      block10_sepconv1_act[0][0]       \n",
            "__________________________________________________________________________________________________\n",
            "block10_sepconv1_bn (BatchNorma (None, 32, 32, 728)  2912        block10_sepconv1[0][0]           \n",
            "__________________________________________________________________________________________________\n",
            "block10_sepconv2_act (Activatio (None, 32, 32, 728)  0           block10_sepconv1_bn[0][0]        \n",
            "__________________________________________________________________________________________________\n",
            "block10_sepconv2 (SeparableConv (None, 32, 32, 728)  536536      block10_sepconv2_act[0][0]       \n",
            "__________________________________________________________________________________________________\n",
            "block10_sepconv2_bn (BatchNorma (None, 32, 32, 728)  2912        block10_sepconv2[0][0]           \n",
            "__________________________________________________________________________________________________\n",
            "block10_sepconv3_act (Activatio (None, 32, 32, 728)  0           block10_sepconv2_bn[0][0]        \n",
            "__________________________________________________________________________________________________\n",
            "block10_sepconv3 (SeparableConv (None, 32, 32, 728)  536536      block10_sepconv3_act[0][0]       \n",
            "__________________________________________________________________________________________________\n",
            "block10_sepconv3_bn (BatchNorma (None, 32, 32, 728)  2912        block10_sepconv3[0][0]           \n",
            "__________________________________________________________________________________________________\n",
            "add_8 (Add)                     (None, 32, 32, 728)  0           block10_sepconv3_bn[0][0]        \n",
            "                                                                 add_7[0][0]                      \n",
            "__________________________________________________________________________________________________\n",
            "block11_sepconv1_act (Activatio (None, 32, 32, 728)  0           add_8[0][0]                      \n",
            "__________________________________________________________________________________________________\n",
            "block11_sepconv1 (SeparableConv (None, 32, 32, 728)  536536      block11_sepconv1_act[0][0]       \n",
            "__________________________________________________________________________________________________\n",
            "block11_sepconv1_bn (BatchNorma (None, 32, 32, 728)  2912        block11_sepconv1[0][0]           \n",
            "__________________________________________________________________________________________________\n",
            "block11_sepconv2_act (Activatio (None, 32, 32, 728)  0           block11_sepconv1_bn[0][0]        \n",
            "__________________________________________________________________________________________________\n",
            "block11_sepconv2 (SeparableConv (None, 32, 32, 728)  536536      block11_sepconv2_act[0][0]       \n",
            "__________________________________________________________________________________________________\n",
            "block11_sepconv2_bn (BatchNorma (None, 32, 32, 728)  2912        block11_sepconv2[0][0]           \n",
            "__________________________________________________________________________________________________\n",
            "block11_sepconv3_act (Activatio (None, 32, 32, 728)  0           block11_sepconv2_bn[0][0]        \n",
            "__________________________________________________________________________________________________\n",
            "block11_sepconv3 (SeparableConv (None, 32, 32, 728)  536536      block11_sepconv3_act[0][0]       \n",
            "__________________________________________________________________________________________________\n",
            "block11_sepconv3_bn (BatchNorma (None, 32, 32, 728)  2912        block11_sepconv3[0][0]           \n",
            "__________________________________________________________________________________________________\n",
            "add_9 (Add)                     (None, 32, 32, 728)  0           block11_sepconv3_bn[0][0]        \n",
            "                                                                 add_8[0][0]                      \n",
            "__________________________________________________________________________________________________\n",
            "block12_sepconv1_act (Activatio (None, 32, 32, 728)  0           add_9[0][0]                      \n",
            "__________________________________________________________________________________________________\n",
            "block12_sepconv1 (SeparableConv (None, 32, 32, 728)  536536      block12_sepconv1_act[0][0]       \n",
            "__________________________________________________________________________________________________\n",
            "block12_sepconv1_bn (BatchNorma (None, 32, 32, 728)  2912        block12_sepconv1[0][0]           \n",
            "__________________________________________________________________________________________________\n",
            "block12_sepconv2_act (Activatio (None, 32, 32, 728)  0           block12_sepconv1_bn[0][0]        \n",
            "__________________________________________________________________________________________________\n",
            "block12_sepconv2 (SeparableConv (None, 32, 32, 728)  536536      block12_sepconv2_act[0][0]       \n",
            "__________________________________________________________________________________________________\n",
            "block12_sepconv2_bn (BatchNorma (None, 32, 32, 728)  2912        block12_sepconv2[0][0]           \n",
            "__________________________________________________________________________________________________\n",
            "block12_sepconv3_act (Activatio (None, 32, 32, 728)  0           block12_sepconv2_bn[0][0]        \n",
            "__________________________________________________________________________________________________\n",
            "block12_sepconv3 (SeparableConv (None, 32, 32, 728)  536536      block12_sepconv3_act[0][0]       \n",
            "__________________________________________________________________________________________________\n",
            "block12_sepconv3_bn (BatchNorma (None, 32, 32, 728)  2912        block12_sepconv3[0][0]           \n",
            "__________________________________________________________________________________________________\n",
            "add_10 (Add)                    (None, 32, 32, 728)  0           block12_sepconv3_bn[0][0]        \n",
            "                                                                 add_9[0][0]                      \n",
            "__________________________________________________________________________________________________\n",
            "block13_sepconv1_act (Activatio (None, 32, 32, 728)  0           add_10[0][0]                     \n",
            "__________________________________________________________________________________________________\n",
            "block13_sepconv1 (SeparableConv (None, 32, 32, 728)  536536      block13_sepconv1_act[0][0]       \n",
            "__________________________________________________________________________________________________\n",
            "block13_sepconv1_bn (BatchNorma (None, 32, 32, 728)  2912        block13_sepconv1[0][0]           \n",
            "__________________________________________________________________________________________________\n",
            "block13_sepconv2_act (Activatio (None, 32, 32, 728)  0           block13_sepconv1_bn[0][0]        \n",
            "__________________________________________________________________________________________________\n",
            "block13_sepconv2 (SeparableConv (None, 32, 32, 1024) 752024      block13_sepconv2_act[0][0]       \n",
            "__________________________________________________________________________________________________\n",
            "block13_sepconv2_bn (BatchNorma (None, 32, 32, 1024) 4096        block13_sepconv2[0][0]           \n",
            "__________________________________________________________________________________________________\n",
            "conv2d_3 (Conv2D)               (None, 16, 16, 1024) 745472      add_10[0][0]                     \n",
            "__________________________________________________________________________________________________\n",
            "block13_pool (MaxPooling2D)     (None, 16, 16, 1024) 0           block13_sepconv2_bn[0][0]        \n",
            "__________________________________________________________________________________________________\n",
            "batch_normalization_3 (BatchNor (None, 16, 16, 1024) 4096        conv2d_3[0][0]                   \n",
            "__________________________________________________________________________________________________\n",
            "add_11 (Add)                    (None, 16, 16, 1024) 0           block13_pool[0][0]               \n",
            "                                                                 batch_normalization_3[0][0]      \n",
            "__________________________________________________________________________________________________\n",
            "block14_sepconv1 (SeparableConv (None, 16, 16, 1536) 1582080     add_11[0][0]                     \n",
            "__________________________________________________________________________________________________\n",
            "block14_sepconv1_bn (BatchNorma (None, 16, 16, 1536) 6144        block14_sepconv1[0][0]           \n",
            "__________________________________________________________________________________________________\n",
            "block14_sepconv1_act (Activatio (None, 16, 16, 1536) 0           block14_sepconv1_bn[0][0]        \n",
            "__________________________________________________________________________________________________\n",
            "block14_sepconv2 (SeparableConv (None, 16, 16, 2048) 3159552     block14_sepconv1_act[0][0]       \n",
            "__________________________________________________________________________________________________\n",
            "block14_sepconv2_bn (BatchNorma (None, 16, 16, 2048) 8192        block14_sepconv2[0][0]           \n",
            "__________________________________________________________________________________________________\n",
            "block14_sepconv2_act (Activatio (None, 16, 16, 2048) 0           block14_sepconv2_bn[0][0]        \n",
            "__________________________________________________________________________________________________\n",
            "global_average_pooling2d (Globa (None, 2048)         0           block14_sepconv2_act[0][0]       \n",
            "__________________________________________________________________________________________________\n",
            "dropout (Dropout)               (None, 2048)         0           global_average_pooling2d[0][0]   \n",
            "__________________________________________________________________________________________________\n",
            "dense (Dense)                   (None, 5)            10245       dropout[0][0]                    \n",
            "==================================================================================================\n",
            "Total params: 20,871,725\n",
            "Trainable params: 20,817,197\n",
            "Non-trainable params: 54,528\n",
            "__________________________________________________________________________________________________\n"
          ]
        },
        {
          "output_type": "stream",
          "name": "stderr",
          "text": [
            "/usr/local/lib/python3.7/dist-packages/keras/optimizer_v2/optimizer_v2.py:356: UserWarning: The `lr` argument is deprecated, use `learning_rate` instead.\n",
            "  \"The `lr` argument is deprecated, use `learning_rate` instead.\")\n"
          ]
        }
      ]
    },
    {
      "cell_type": "code",
      "source": [
        "tensorboard = TensorBoard(log_dir = '/content/drive/My Drive/xception')\n",
        "kappa_metrics = Metrics('/content/drive/MyDrive/xception/xception.h5')\n",
        "xception_ = xception()\n",
        "history = xception_.fit(x_train, labels_train, batch_size=8,\n",
        "                    steps_per_epoch=len(x_train) / 8,\n",
        "                    epochs=30,\n",
        "                    initial_epoch=0,\n",
        "                    verbose=1,\n",
        "                    validation_data=(x_validation, labels_validation),\n",
        "                    validation_steps=len(x_validation) / 8,\n",
        "                    callbacks=[kappa_metrics,tensorboard])"
      ],
      "metadata": {
        "id": "gj9sBYV86Gsz"
      },
      "execution_count": null,
      "outputs": []
    },
    {
      "cell_type": "code",
      "source": [
        "xception_ = xception()\n",
        "xception_.load_weights(\"/content/drive/My Drive/models/xception.h5\")\n",
        "result1 = xception_.evaluate(x_validation,labels_validation, verbose = 2)\n",
        "y_pred = xception_.predict(x_validation, batch_size = 8)\n",
        "print(\"After running the model for 30 epochs we got loss = {} Accuracy = {} kappa_score = {} on validation data\".format(np.round(result1[0],4),np.round(result1[1],4),np.round(kappa_metric(labels_validation,y_pred),4)))"
      ],
      "metadata": {
        "id": "Z5CtVR9I6hVZ"
      },
      "execution_count": null,
      "outputs": []
    },
    {
      "cell_type": "code",
      "source": [
        "ytrain_xception = xception_.predict(x_train)\n",
        "ytrain_xception = test_prediction(ytrain_xception)\n",
        "print(\"First five data points predictions in training:\",ytrain_xception[:5])\n",
        "print(\"length of traindata prediction:\",ytrain_xception.shape,\"\\n\")\n",
        "\n",
        "yvalidation_xception = xception_.predict(x_validation)\n",
        "yvalidation_xception = test_prediction(yvalidation_xception)\n",
        "print(\"First five data points predictions in validation:\",yvalidation_xception[:5])\n",
        "print(\"length of validation data prediction:\",yvalidation_xception.shape,\"\\n\")\n",
        "\n",
        "ytest_xception = xception_.predict(x_test)\n",
        "ytest_xception = test_prediction(ytest_xception)\n",
        "print(\"First five data points predictions in test:\",ytest_xception[:5])\n",
        "print(\"length of test data prediction:\",ytest_xception.shape)"
      ],
      "metadata": {
        "id": "vn2f_JiK79Ds"
      },
      "execution_count": null,
      "outputs": []
    },
    {
      "cell_type": "code",
      "source": [
        "metric = PerformanceMetric(labels_validation, y_pred)\n",
        "metric.plotting()"
      ],
      "metadata": {
        "id": "8CQOXIJ-7-QV"
      },
      "execution_count": null,
      "outputs": []
    },
    {
      "cell_type": "code",
      "source": [
        "%reload_ext tensorboard\n",
        "%tensorboard --logdir='/content/drive/My Drive/xception'"
      ],
      "metadata": {
        "id": "JjgS0b5a8BD4"
      },
      "execution_count": null,
      "outputs": []
    }
  ],
  "metadata": {
    "colab": {
      "provenance": [],
      "collapsed_sections": [
        "bMitXZ2T1U6m"
      ]
    },
    "kernelspec": {
      "display_name": "Python 3",
      "name": "python3"
    },
    "language_info": {
      "name": "python"
    },
    "accelerator": "GPU"
  },
  "nbformat": 4,
  "nbformat_minor": 0
}